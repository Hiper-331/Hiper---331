{
  "nbformat": 4,
  "nbformat_minor": 0,
  "metadata": {
    "colab": {
      "provenance": [],
      "authorship_tag": "ABX9TyPhn+LTThvjCdNlycxTPsNh",
      "include_colab_link": true
    },
    "kernelspec": {
      "name": "python3",
      "display_name": "Python 3"
    },
    "language_info": {
      "name": "python"
    }
  },
  "cells": [
    {
      "cell_type": "markdown",
      "metadata": {
        "id": "view-in-github",
        "colab_type": "text"
      },
      "source": [
        "<a href=\"https://colab.research.google.com/github/Hiper-331/Hiper---331/blob/main/hackathon_hiperstream.ipynb\" target=\"_parent\"><img src=\"https://colab.research.google.com/assets/colab-badge.svg\" alt=\"Open In Colab\"/></a>"
      ]
    },
    {
      "cell_type": "code",
      "execution_count": null,
      "metadata": {
        "colab": {
          "base_uri": "https://localhost:8080/"
        },
        "id": "qsNXes_5tRWq",
        "outputId": "a027a78b-c390-4ad0-ce39-4ed644991c01"
      },
      "outputs": [
        {
          "output_type": "stream",
          "name": "stdout",
          "text": [
            "Requirement already satisfied: pandas in /usr/local/lib/python3.10/dist-packages (2.0.3)\n",
            "Requirement already satisfied: python-dateutil>=2.8.2 in /usr/local/lib/python3.10/dist-packages (from pandas) (2.8.2)\n",
            "Requirement already satisfied: pytz>=2020.1 in /usr/local/lib/python3.10/dist-packages (from pandas) (2023.4)\n",
            "Requirement already satisfied: tzdata>=2022.1 in /usr/local/lib/python3.10/dist-packages (from pandas) (2024.1)\n",
            "Requirement already satisfied: numpy>=1.21.0 in /usr/local/lib/python3.10/dist-packages (from pandas) (1.25.2)\n",
            "Requirement already satisfied: six>=1.5 in /usr/local/lib/python3.10/dist-packages (from python-dateutil>=2.8.2->pandas) (1.16.0)\n"
          ]
        }
      ],
      "source": [
        "pip install pandas\n"
      ]
    },
    {
      "cell_type": "code",
      "source": [
        "pip install graphviz"
      ],
      "metadata": {
        "colab": {
          "base_uri": "https://localhost:8080/"
        },
        "id": "NDtG1MU6tV3_",
        "outputId": "d5d9763c-6a3a-4269-b4ac-bc18122222ec"
      },
      "execution_count": null,
      "outputs": [
        {
          "output_type": "stream",
          "name": "stdout",
          "text": [
            "Requirement already satisfied: graphviz in /usr/local/lib/python3.10/dist-packages (0.20.3)\n"
          ]
        }
      ]
    },
    {
      "cell_type": "code",
      "source": [
        "import os\n",
        "\n",
        "# Especifica o caminho do diretório que você deseja criar\n",
        "caminho = 'C:\\Temp\\Baseparateste.csv'\n",
        "\n",
        "# Verifica se o diretório não existe\n",
        "if not os.path.exists(caminho):\n",
        "    # Cria o diretório\n",
        "    os.makedirs(caminho)\n",
        "    print(\"Diretório criado com sucesso em\", caminho)\n",
        "else:\n",
        "    print(\"O diretório\", caminho, \"já existe.\")"
      ],
      "metadata": {
        "colab": {
          "base_uri": "https://localhost:8080/"
        },
        "id": "B4MEAoiItqOH",
        "outputId": "2dd8f146-aa63-4168-b9ae-df998232d5f2"
      },
      "execution_count": null,
      "outputs": [
        {
          "output_type": "stream",
          "name": "stdout",
          "text": [
            "Diretório criado com sucesso em C:\\Temp\\Baseparateste.csv\n"
          ]
        }
      ]
    },
    {
      "cell_type": "code",
      "source": [
        "diretorio = 'C:\\\\Temp\\\\Baseparateste.csv'\n",
        "\n",
        "with open('Baseparateste.csv', 'w') as arquivo:\n",
        "    arquivo.write(diretorio)\n"
      ],
      "metadata": {
        "id": "cXcloy09uchf"
      },
      "execution_count": null,
      "outputs": []
    },
    {
      "cell_type": "code",
      "source": [
        "import pandas as pd\n",
        "import graphviz\n",
        "\n",
        "# Ler a base de dados\n",
        "data = pd.read_csv('Baseparateste.csv', delimiter=';')\n",
        "\n",
        "# Criar um objeto Digraph\n",
        "dot = graphviz.Digraph()\n",
        "\n",
        "# Adicionar nós ao fluxograma para cada diretório e caminho\n",
        "for _, row in data.iterrows():\n",
        "    dot.node(row['PastaOrigem'], row['Nome'], shape='folder')\n",
        "    dot.node(row['PastaDestino'], shape='folder')\n",
        "    dot.node(row['PastaBackup'], shape='folder')\n",
        "\n",
        "    dot.edge(row['PastaOrigem'], row['PastaDestino'], label='Destino')\n",
        "    dot.edge(row['PastaOrigem'], row['PastaBackup'], label='Backup')\n",
        "\n",
        "# Salvar o fluxograma como um arquivo PNG\n",
        "dot.render('fluxograma', format='png', cleanup=True)\n",
        "\n",
        "# Exibir o fluxograma\n",
        "dot.view()\n"
      ],
      "metadata": {
        "colab": {
          "base_uri": "https://localhost:8080/",
          "height": 35
        },
        "id": "TopoHPcvtdmm",
        "outputId": "906a66e9-c09b-4b01-d26d-0dcc34a70e85"
      },
      "execution_count": null,
      "outputs": [
        {
          "output_type": "execute_result",
          "data": {
            "text/plain": [
              "'fluxograma.pdf'"
            ],
            "application/vnd.google.colaboratory.intrinsic+json": {
              "type": "string"
            }
          },
          "metadata": {},
          "execution_count": 17
        }
      ]
    }
  ]
}